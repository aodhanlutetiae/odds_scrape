{
 "cells": [
  {
   "cell_type": "code",
   "execution_count": 15,
   "id": "70bd660e-af71-44b4-a6da-4f22fdcc5a1c",
   "metadata": {},
   "outputs": [],
   "source": [
    "import requests\n",
    "import bs4\n",
    "import csv"
   ]
  },
  {
   "cell_type": "code",
   "execution_count": 3,
   "id": "50089b88-1a3e-465e-8902-b35f570299a3",
   "metadata": {},
   "outputs": [],
   "source": [
    "url = 'https://www.irishtimes.com/opinion/letters/'\n",
    "req = requests.get(url)"
   ]
  },
  {
   "cell_type": "code",
   "execution_count": 10,
   "id": "1706dcbc-cccb-4077-bf09-a36552b7ad3b",
   "metadata": {},
   "outputs": [],
   "source": [
    "soup = bs4.BeautifulSoup(req.text, 'html.parser')"
   ]
  },
  {
   "cell_type": "code",
   "execution_count": 18,
   "id": "4ab0855b-7632-46c3-b1da-43b2a98eac82",
   "metadata": {},
   "outputs": [],
   "source": [
    "letters = soup.find_all('h2', class_ = 'c-heading')\n"
   ]
  },
  {
   "cell_type": "code",
   "execution_count": 24,
   "id": "e1ef9fe0-3470-4baa-b6b2-0859adafc59b",
   "metadata": {},
   "outputs": [],
   "source": [
    "HEADERS = ['heading']"
   ]
  },
  {
   "cell_type": "code",
   "execution_count": 51,
   "id": "5b622ac3-b2e3-43f8-a862-25303d3c840c",
   "metadata": {},
   "outputs": [],
   "source": [
    "with open('letter_headings.csv', \"a\") as csv_file:\n",
    "        writer = csv.writer(csv_file, delimiter=',')\n",
    "        for l in letters[:-2]:\n",
    "            writer.writerow([l.text])"
   ]
  },
  {
   "cell_type": "code",
   "execution_count": null,
   "id": "49c9538b-0885-4df6-b483-56c58ac37707",
   "metadata": {},
   "outputs": [],
   "source": []
  },
  {
   "cell_type": "code",
   "execution_count": null,
   "id": "a881b0bf-d388-4cc8-b65a-5d975fd6451c",
   "metadata": {},
   "outputs": [],
   "source": []
  }
 ],
 "metadata": {
  "kernelspec": {
   "display_name": "Python 3 (ipykernel)",
   "language": "python",
   "name": "python3"
  },
  "language_info": {
   "codemirror_mode": {
    "name": "ipython",
    "version": 3
   },
   "file_extension": ".py",
   "mimetype": "text/x-python",
   "name": "python",
   "nbconvert_exporter": "python",
   "pygments_lexer": "ipython3",
   "version": "3.12.4"
  }
 },
 "nbformat": 4,
 "nbformat_minor": 5
}
